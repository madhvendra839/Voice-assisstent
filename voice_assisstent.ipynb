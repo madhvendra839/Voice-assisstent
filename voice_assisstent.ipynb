{
  "nbformat": 4,
  "nbformat_minor": 0,
  "metadata": {
    "colab": {
      "provenance": []
    },
    "kernelspec": {
      "name": "python3",
      "display_name": "Python 3"
    },
    "language_info": {
      "name": "python"
    },
    "accelerator": "GPU",
    "gpuClass": "standard"
  },
  "cells": [
    {
      "cell_type": "code",
      "execution_count": 1,
      "metadata": {
        "colab": {
          "base_uri": "https://localhost:8080/"
        },
        "id": "QJEZ0nw6Xelq",
        "outputId": "84df0c56-6b20-4519-e4ae-332173c5e8c9"
      },
      "outputs": [
        {
          "output_type": "stream",
          "name": "stdout",
          "text": [
            "  Preparing metadata (setup.py) ... \u001b[?25l\u001b[?25hdone\n",
            "\u001b[2K     \u001b[90m━━━━━━━━━━━━━━━━━━━━━━━━━━━━━━━━━━━━━━━━\u001b[0m \u001b[32m6.3/6.3 MB\u001b[0m \u001b[31m96.6 MB/s\u001b[0m eta \u001b[36m0:00:00\u001b[0m\n",
            "\u001b[2K     \u001b[90m━━━━━━━━━━━━━━━━━━━━━━━━━━━━━━━━━━━━━━\u001b[0m \u001b[32m190.3/190.3 KB\u001b[0m \u001b[31m20.6 MB/s\u001b[0m eta \u001b[36m0:00:00\u001b[0m\n",
            "\u001b[2K     \u001b[90m━━━━━━━━━━━━━━━━━━━━━━━━━━━━━━━━━━━━━━━━\u001b[0m \u001b[32m7.6/7.6 MB\u001b[0m \u001b[31m108.3 MB/s\u001b[0m eta \u001b[36m0:00:00\u001b[0m\n",
            "\u001b[?25h  Building wheel for openai-whisper (setup.py) ... \u001b[?25l\u001b[?25hdone\n",
            "\u001b[2K     \u001b[90m━━━━━━━━━━━━━━━━━━━━━━━━━━━━━━━━━━━━━━━━\u001b[0m \u001b[32m14.2/14.2 MB\u001b[0m \u001b[31m89.7 MB/s\u001b[0m eta \u001b[36m0:00:00\u001b[0m\n",
            "\u001b[2K     \u001b[90m━━━━━━━━━━━━━━━━━━━━━━━━━━━━━━━━━━━━━━━━\u001b[0m \u001b[32m2.1/2.1 MB\u001b[0m \u001b[31m87.0 MB/s\u001b[0m eta \u001b[36m0:00:00\u001b[0m\n",
            "\u001b[2K     \u001b[90m━━━━━━━━━━━━━━━━━━━━━━━━━━━━━━━━━━━━━━\u001b[0m \u001b[32m107.0/107.0 KB\u001b[0m \u001b[31m14.2 MB/s\u001b[0m eta \u001b[36m0:00:00\u001b[0m\n",
            "\u001b[2K     \u001b[90m━━━━━━━━━━━━━━━━━━━━━━━━━━━━━━━━━━━━━━━━\u001b[0m \u001b[32m84.5/84.5 KB\u001b[0m \u001b[31m11.6 MB/s\u001b[0m eta \u001b[36m0:00:00\u001b[0m\n",
            "\u001b[2K     \u001b[90m━━━━━━━━━━━━━━━━━━━━━━━━━━━━━━━━━━━━━━━━\u001b[0m \u001b[32m71.5/71.5 KB\u001b[0m \u001b[31m8.2 MB/s\u001b[0m eta \u001b[36m0:00:00\u001b[0m\n",
            "\u001b[2K     \u001b[90m━━━━━━━━━━━━━━━━━━━━━━━━━━━━━━━━━━━━━━━━\u001b[0m \u001b[32m55.8/55.8 KB\u001b[0m \u001b[31m7.3 MB/s\u001b[0m eta \u001b[36m0:00:00\u001b[0m\n",
            "\u001b[2K     \u001b[90m━━━━━━━━━━━━━━━━━━━━━━━━━━━━━━━━━━━━━━━\u001b[0m \u001b[32m140.6/140.6 KB\u001b[0m \u001b[31m6.1 MB/s\u001b[0m eta \u001b[36m0:00:00\u001b[0m\n",
            "\u001b[2K     \u001b[90m━━━━━━━━━━━━━━━━━━━━━━━━━━━━━━━━━━━━━━━━\u001b[0m \u001b[32m56.9/56.9 KB\u001b[0m \u001b[31m7.3 MB/s\u001b[0m eta \u001b[36m0:00:00\u001b[0m\n",
            "\u001b[?25h  Preparing metadata (setup.py) ... \u001b[?25l\u001b[?25hdone\n",
            "  Preparing metadata (setup.py) ... \u001b[?25l\u001b[?25hdone\n",
            "\u001b[2K     \u001b[90m━━━━━━━━━━━━━━━━━━━━━━━━━━━━━━━━━━━━━━━━\u001b[0m \u001b[32m64.3/64.3 KB\u001b[0m \u001b[31m8.6 MB/s\u001b[0m eta \u001b[36m0:00:00\u001b[0m\n",
            "\u001b[2K     \u001b[90m━━━━━━━━━━━━━━━━━━━━━━━━━━━━━━━━━━━━━━━━\u001b[0m \u001b[32m80.6/80.6 KB\u001b[0m \u001b[31m10.7 MB/s\u001b[0m eta \u001b[36m0:00:00\u001b[0m\n",
            "\u001b[2K     \u001b[90m━━━━━━━━━━━━━━━━━━━━━━━━━━━━━━━━━━━━━━━━\u001b[0m \u001b[32m69.6/69.6 KB\u001b[0m \u001b[31m9.3 MB/s\u001b[0m eta \u001b[36m0:00:00\u001b[0m\n",
            "\u001b[2K     \u001b[90m━━━━━━━━━━━━━━━━━━━━━━━━━━━━━━━━━━━━━━━━\u001b[0m \u001b[32m50.5/50.5 KB\u001b[0m \u001b[31m7.2 MB/s\u001b[0m eta \u001b[36m0:00:00\u001b[0m\n",
            "\u001b[2K     \u001b[90m━━━━━━━━━━━━━━━━━━━━━━━━━━━━━━━━━━━━━━━━\u001b[0m \u001b[32m58.3/58.3 KB\u001b[0m \u001b[31m7.1 MB/s\u001b[0m eta \u001b[36m0:00:00\u001b[0m\n",
            "\u001b[?25h  Building wheel for ffmpy (setup.py) ... \u001b[?25l\u001b[?25hdone\n",
            "  Building wheel for python-multipart (setup.py) ... \u001b[?25l\u001b[?25hdone\n",
            "\u001b[2K     \u001b[90m━━━━━━━━━━━━━━━━━━━━━━━━━━━━━━━━━━━━━━━━\u001b[0m \u001b[32m60.0/60.0 KB\u001b[0m \u001b[31m7.1 MB/s\u001b[0m eta \u001b[36m0:00:00\u001b[0m\n",
            "\u001b[?25h  Preparing metadata (setup.py) ... \u001b[?25l\u001b[?25hdone\n",
            "\u001b[2K     \u001b[90m━━━━━━━━━━━━━━━━━━━━━━━━━━━━━━━━━━━━━━\u001b[0m \u001b[32m128.2/128.2 KB\u001b[0m \u001b[31m15.0 MB/s\u001b[0m eta \u001b[36m0:00:00\u001b[0m\n",
            "\u001b[2K     \u001b[90m━━━━━━━━━━━━━━━━━━━━━━━━━━━━━━━━━━━━━━━━\u001b[0m \u001b[32m6.3/6.3 MB\u001b[0m \u001b[31m106.6 MB/s\u001b[0m eta \u001b[36m0:00:00\u001b[0m\n",
            "\u001b[2K     \u001b[90m━━━━━━━━━━━━━━━━━━━━━━━━━━━━━━━━━━━━━━\u001b[0m \u001b[32m384.9/384.9 KB\u001b[0m \u001b[31m40.8 MB/s\u001b[0m eta \u001b[36m0:00:00\u001b[0m\n",
            "\u001b[2K     \u001b[90m━━━━━━━━━━━━━━━━━━━━━━━━━━━━━━━━━━━━━━\u001b[0m \u001b[32m140.6/140.6 KB\u001b[0m \u001b[31m18.4 MB/s\u001b[0m eta \u001b[36m0:00:00\u001b[0m\n",
            "\u001b[?25h  Building wheel for undetected-chromedriver (setup.py) ... \u001b[?25l\u001b[?25hdone\n"
          ]
        }
      ],
      "source": [
        "!pip install -q git+https://github.com/openai/whisper.git\n",
        "!pip install -q gradio\n",
        "!pip install -q pyChatGPT"
      ]
    },
    {
      "cell_type": "code",
      "source": [
        "import whisper\n",
        "import gradio as gr \n",
        "import time\n",
        "from pyChatGPT import ChatGPT\n",
        "import warnings"
      ],
      "metadata": {
        "id": "Bcw8carGXpnO"
      },
      "execution_count": 2,
      "outputs": []
    },
    {
      "cell_type": "code",
      "source": [
        "warnings.filterwarnings(\"ignore\")\n",
        "secret_token = \"eyJhbGciOiJkaXIiLCJlbmMiOiJBMjU2R0NNIn0..c0yLlQAzaPKGOsyp.CWC9jusnkLu-q939s4mhz1YDTSpHwMZgbv-pUHpS-tA7phFgR0tYpUZeIgM5hlZg76JawI64irisvuQEXfTBxJsFOCX8RobHFWu6vnWEjrVPto8XMoSkFP9DPMK7SxuVmUqgfHLa3iPtOR73pRkQWECskkpcP4vinBfYxNLw337HXq1DKcl36ifvH8ft3TlBXYKvta__-nd6dVEmKMDbTVy50kEWG2YxFqoDeUTWN8c4g9acMm34L8c3QHFGq0N76v_IdJI1l7tFIqv8Bs56J31jEENw-Ybl06BBC1hjgaTPE-AwVKQRqrTclQXDG_j-Pkinn8i2xHrla0TyqouqIgn8eACi_71WxWwo6c1eFBOJsZAwTWRNskTTNkuJuv75bUmY7zw9wU693NZbeNEH--OQk02Cn-kUD8wdhZaZppwmmBwDfkRwf5h--ca6ebUPUNR8s79QO_qj10tUbWgw5wak75ogM8jMhH1DP6zRnQbDrZNf8pgu33uYdswmVx1e5iZD3WkQqJpDuWIQvhJ6O0pcVXJUElNMpRgzHk00vv1XTaFjdikD_2gaRyviOIU2nyZFzJA7s07B4qetSu5Ni4DbR9Qix6ocFiV72Cqyh_74iuaDZZxLEksqQC-oK_HMOiQ2ct5M54C76ym0dYWms8lMOYcJpXV0z5vkdnZma073RypW3_flDN3XAMiBe4EUDyJG4LR32dz58KzcAvZLyHiTn8naIwbRxNfPb0v_5976j0y0KyM-7q4e7BqledfwEuEhDc0ZrrEKhLn3B8XOZ_7D8mQLYE6iuRN8NvfbNUxzmh8qd9qECgKgzoP48IX9ogao6XnIhhqCj5HrsuQMcgmJT4puYOPvS1_iEiB1cscon3lydfBXXWgoZmxlAApgHAhKQHqx_8gLR55gNWqj0Y6RnpQkoRe6fXLwlLQ0B_3VoD8LVF_FFZF1bumdw5E7LnFxjMsYdlVno7GPyisC2LlC3ZcVefqBmAuqy_wVJZtJkxeMZK0QVTDk_gVyxfQwYI0fy7F13Cua9tu7Yp2gAPbSuYW6SaHkjLl1WOkh_8GIG_pZpm3Rm1pGQfQOQs8BT32xG6ypLh6AIp7xCNWRDUzVreR3Vm4UOlKkKJPONUM_YcITjzvpR7KyGKiiwq937KO7uSpk0G7rE4lrR6ysJZ084SvFTZmlLCwyn-uDctnw7Bvxcxie5v8wrmA5roOHLS2SeoBneHhKWIfZqOhZLjt9rTEGZPK-zNLG9hkeE5fQitqPIke9bACigF7vgId3FZcV1O1EYM2Nis2CEv9VtX2xSx0M5mMjOoxMr0YnczBsQtnRAGdMpfUjyx_WN3In60Icw4Ee6yULWGM8xN8bvSe58Jf5r72O-QMoR176XPq9jOooMR3DW23Rm1XCaMxb2Cg7SjLO2HYYOZcL3NcLjh-epD1jAyC-l5hQfNLqYEzjiEuoSVpHdDbC81Das5-hVZMmccKZO7elo-rWQI4c4Z8gbUNHxE6FEOKN7pV6Klm8I0eWQi5bGU-flRKy1ykUjHH_xrWipz8p8FSvEtk1xSCu5Fc7vgygBOhCiq-EgOQ0yYB8voczrd6_AYBtXtGDDIsGWslDGT806buudC2i7wJGNdY_WDl-ufV_heCh692EcyjebY7Lmz2WRRrUG9wZ4nJCfQRRhdr0xsPMHOsLzvgUfOs211IGrlgnvH3rsfDQIE5XpDtNb5rjP6dWBYL7eOCVXlDEifssZjTDs7YtXbJSAJjprw_szS4QER_FNv1LBmcramINxv9C8PsF36klhtjehoMCk9JA07xLM8HCPYm4Ig9FF9TihXPyrNlUPh2CowXXE-iJ5BBeMfdJ0HYhkaBk7H3JvIYIOYGVVN82Lj_g5w0pYkZLvElsX7HnP_UIWTWQOq3JjoMynidnoGdru2tNlR7BQWiPdAjgF4CKlKIY0lw7yTNan_xzsY8bAAvmYDgedp6w3iVM-GHD5IaLGgDfMhE7srKUs3e6OhvOOUNqVWvYERkTDC7bqdqidvaXQLSz0TM-USKy08HYXy4YI997JOsPVu4utFDU4gMoxT4QXbF_GqC0DfC9OXOBrmmGxaJ5bI7RWAP5rTgX193uQ_SK7YJMwbWlCNVvLyHXrjX-hn_wR8-jJpFWe9Th7UEZnaN7sd0ICuua-kyDt0MNwj9NsVp9xzlw_uyNQyshSCI_ffTSJLf82e3XvRo5WUzZ9hXuVVlXXvLaTWJhAr3J41YEvWSXw0bzPUWMm-WBVZI_heFcKQioP_-a6qBz9KwfKKrRATQpu0GAcafPe_xBZwREMwzbTL9FsmZAvPgRWIeR7csimYGIvYKJSINIJj0JS5Uf3xfC1ppSCI-n9Mo-jYPhb0aZji1rctCTQX-pswABypysw-jsDcC1CbzsFHgzM_DZCdRRqXzSsaq9q49oQUEwrPS0LwVtuejUHOPbKgDXC4vYxZKyfFKBtqWQbKERd9DSUJgE43Z3TxzShDmFriDnPTEJ7GeENnDTGsPQFMe_lnzADbLCpb_madLuX37Zzof5d3Jya1YpeM_K1xf-4mCUoVYWiSuENBtE1yGKgfZaGMG6BTNX70yZLzeSnbBHOzhP.ppQHenm7D4_BLBXc2R6ADQ\"                                         \n",
        "model = whisper.load_model(\"base\")"
      ],
      "metadata": {
        "colab": {
          "base_uri": "https://localhost:8080/"
        },
        "id": "egjKW6EYY_Nh",
        "outputId": "a7763f3e-a2fc-44fd-a490-4d80e6625bdb"
      },
      "execution_count": 3,
      "outputs": [
        {
          "output_type": "stream",
          "name": "stderr",
          "text": [
            "100%|███████████████████████████████████████| 139M/139M [00:02<00:00, 54.4MiB/s]\n"
          ]
        }
      ]
    },
    {
      "cell_type": "code",
      "source": [
        "model.device"
      ],
      "metadata": {
        "colab": {
          "base_uri": "https://localhost:8080/"
        },
        "id": "JTifm1qMZ1U9",
        "outputId": "69a9a373-26d3-4328-eaa4-22eecebf8546"
      },
      "execution_count": 4,
      "outputs": [
        {
          "output_type": "execute_result",
          "data": {
            "text/plain": [
              "device(type='cuda', index=0)"
            ]
          },
          "metadata": {},
          "execution_count": 4
        }
      ]
    },
    {
      "cell_type": "code",
      "source": [
        "def transcribe(audio):\n",
        "\n",
        "    # load audio and pad/trim it to fit 30 seconds\n",
        "    audio = whisper.load_audio(audio)\n",
        "    audio = whisper.pad_or_trim(audio)\n",
        "\n",
        "    # make log-Mel spectrogram and move to the same device as the model\n",
        "    mel = whisper.log_mel_spectrogram(audio).to(model.device)\n",
        "\n",
        "    # detect the spoken language\n",
        "    _, probs = model.detect_language(mel)\n",
        "\n",
        "    # decode the audio\n",
        "    options = whisper.DecodingOptions()\n",
        "    result = whisper.decode(model, mel, options)\n",
        "    result_text = result.text\n",
        "\n",
        "    # Pass the generated text to Audio\n",
        "    chatgpt_api = ChatGPT(secret_token)\n",
        "    resp = chatgpt_api.send_message(result_text)\n",
        "    out_result = resp['message']\n",
        "\n",
        "    return [result_text, out_result]"
      ],
      "metadata": {
        "id": "WzhxZie_Z7oV"
      },
      "execution_count": 5,
      "outputs": []
    },
    {
      "cell_type": "code",
      "source": [
        "output_1 = gr.Textbox(label=\"Speech to Text\")\n",
        "output_2 = gr.Textbox(label=\"ChatGPT Output\")\n",
        "\n",
        "\n",
        "gr.Interface(\n",
        "    title = 'VOICE ASSISSTENT by Madhvendra Singh', \n",
        "    fn=transcribe, \n",
        "    inputs=[\n",
        "        gr.inputs.Audio(source=\"microphone\", type=\"filepath\")\n",
        "    ],\n",
        "\n",
        "    outputs=[\n",
        "        output_1,  output_2\n",
        "    ],\n",
        "    live=True).launch()"
      ],
      "metadata": {
        "colab": {
          "base_uri": "https://localhost:8080/",
          "height": 617
        },
        "id": "ylsMl9gZZ_as",
        "outputId": "255e16cc-0438-4178-f79e-1f0ad19d9c0a"
      },
      "execution_count": 11,
      "outputs": [
        {
          "output_type": "stream",
          "name": "stdout",
          "text": [
            "Colab notebook detected. To show errors in colab notebook, set debug=True in launch()\n",
            "Note: opening Chrome Inspector may crash demo inside Colab notebooks.\n",
            "\n",
            "To create a public link, set `share=True` in `launch()`.\n"
          ]
        },
        {
          "output_type": "display_data",
          "data": {
            "text/plain": [
              "<IPython.core.display.Javascript object>"
            ],
            "application/javascript": [
              "(async (port, path, width, height, cache, element) => {\n",
              "                        if (!google.colab.kernel.accessAllowed && !cache) {\n",
              "                            return;\n",
              "                        }\n",
              "                        element.appendChild(document.createTextNode(''));\n",
              "                        const url = await google.colab.kernel.proxyPort(port, {cache});\n",
              "\n",
              "                        const external_link = document.createElement('div');\n",
              "                        external_link.innerHTML = `\n",
              "                            <div style=\"font-family: monospace; margin-bottom: 0.5rem\">\n",
              "                                Running on <a href=${new URL(path, url).toString()} target=\"_blank\">\n",
              "                                    https://localhost:${port}${path}\n",
              "                                </a>\n",
              "                            </div>\n",
              "                        `;\n",
              "                        element.appendChild(external_link);\n",
              "\n",
              "                        const iframe = document.createElement('iframe');\n",
              "                        iframe.src = new URL(path, url).toString();\n",
              "                        iframe.height = height;\n",
              "                        iframe.allow = \"autoplay; camera; microphone; clipboard-read; clipboard-write;\"\n",
              "                        iframe.width = width;\n",
              "                        iframe.style.border = 0;\n",
              "                        element.appendChild(iframe);\n",
              "                    })(7865, \"/\", \"100%\", 500, false, window.element)"
            ]
          },
          "metadata": {}
        },
        {
          "output_type": "execute_result",
          "data": {
            "text/plain": []
          },
          "metadata": {},
          "execution_count": 11
        }
      ]
    },
    {
      "cell_type": "code",
      "source": [],
      "metadata": {
        "id": "f8yKHYb1aDnu"
      },
      "execution_count": null,
      "outputs": []
    }
  ]
}